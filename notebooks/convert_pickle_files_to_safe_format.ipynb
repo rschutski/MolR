{
 "cells": [
  {
   "cell_type": "code",
   "execution_count": 5,
   "metadata": {},
   "outputs": [],
   "source": [
    "import pickle\n",
    "from pathlib import Path\n",
    "import deepdiff\n",
    "from tqdm.auto import tqdm\n",
    "import yaml"
   ]
  },
  {
   "cell_type": "code",
   "execution_count": 7,
   "metadata": {},
   "outputs": [
    {
     "data": {
      "application/vnd.jupyter.widget-view+json": {
       "model_id": "c74788a910314992a27ce5065c3690cf",
       "version_major": 2,
       "version_minor": 0
      },
      "text/plain": [
       "  0%|          | 0/4 [00:00<?, ?it/s]"
      ]
     },
     "metadata": {},
     "output_type": "display_data"
    }
   ],
   "source": [
    "weights_path = Path('../src/molr/weights')\n",
    "models = ['tag_1024', 'sage_1024', 'gcn_1024', 'gat_1024']\n",
    "\n",
    "for model in tqdm(models):\n",
    "    feature_encoder = pickle.load(\n",
    "        weights_path.joinpath(model).joinpath('feature_enc.pkl').open('rb')\n",
    "    )\n",
    "    yaml.dump(feature_encoder, weights_path.joinpath(model).joinpath('feature_enc.yml').open('w'))\n",
    "    feature_encoder_new = yaml.safe_load(weights_path.joinpath(model).joinpath('feature_enc.yml').open('r'))\n",
    "    hparams = pickle.load(\n",
    "        weights_path.joinpath(model).joinpath('hparams.pkl').open('rb')\n",
    "    )\n",
    "    yaml.dump(hparams, weights_path.joinpath(model).joinpath('hparams.yml').open('w'))\n",
    "    hparams_new = yaml.safe_load(weights_path.joinpath(model).joinpath('hparams.yml').open('r'))\n",
    "\n",
    "    diff1 = deepdiff.DeepDiff(hparams, hparams_new)\n",
    "    assert len(diff1) == 0, diff1\n",
    "\n",
    "    diff2 = deepdiff.DeepDiff(feature_encoder, feature_encoder_new)\n",
    "    assert len(diff2) == 0, diff2"
   ]
  },
  {
   "cell_type": "code",
   "execution_count": null,
   "metadata": {},
   "outputs": [],
   "source": []
  },
  {
   "cell_type": "code",
   "execution_count": null,
   "metadata": {},
   "outputs": [],
   "source": []
  }
 ],
 "metadata": {
  "kernelspec": {
   "display_name": "Python 3",
   "language": "python",
   "name": "python3"
  },
  "language_info": {
   "codemirror_mode": {
    "name": "ipython",
    "version": 3
   },
   "file_extension": ".py",
   "mimetype": "text/x-python",
   "name": "python",
   "nbconvert_exporter": "python",
   "pygments_lexer": "ipython3",
   "version": "3.9.20"
  }
 },
 "nbformat": 4,
 "nbformat_minor": 2
}
